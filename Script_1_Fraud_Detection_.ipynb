{
  "nbformat": 4,
  "nbformat_minor": 0,
  "metadata": {
    "colab": {
      "name": "Script 1 Fraud Detection .ipynb",
      "provenance": [],
      "collapsed_sections": [],
      "toc_visible": true,
      "authorship_tag": "ABX9TyPoTg4wyW4zC06VPSl3LjNT",
      "include_colab_link": true
    },
    "kernelspec": {
      "name": "python3",
      "display_name": "Python 3"
    }
  },
  "cells": [
    {
      "cell_type": "markdown",
      "metadata": {
        "id": "view-in-github",
        "colab_type": "text"
      },
      "source": [
        "<a href=\"https://colab.research.google.com/github/CodeDataScienceTunis/Fraud-Detection-using-Decision-Tree-Classifier/blob/main/Script_1_Fraud_Detection_.ipynb\" target=\"_parent\"><img src=\"https://colab.research.google.com/assets/colab-badge.svg\" alt=\"Open In Colab\"/></a>"
      ]
    },
    {
      "cell_type": "markdown",
      "metadata": {
        "id": "o5QSK8J6Ny2L"
      },
      "source": [
        "# import pandas and read csv "
      ]
    },
    {
      "cell_type": "code",
      "metadata": {
        "colab": {
          "base_uri": "https://localhost:8080/"
        },
        "id": "n7VUJ1v_N0zo",
        "outputId": "b63a3466-de2d-4623-8c51-044c9817402d"
      },
      "source": [
        "import pandas as pd\r\n",
        "import matplotlib.pyplot as plt\r\n",
        "import numpy as np\r\n",
        "\r\n",
        "from google.colab import drive\r\n",
        "drive.mount('/content/drive')\r\n"
      ],
      "execution_count": 145,
      "outputs": [
        {
          "output_type": "stream",
          "text": [
            "Drive already mounted at /content/drive; to attempt to forcibly remount, call drive.mount(\"/content/drive\", force_remount=True).\n"
          ],
          "name": "stdout"
        }
      ]
    },
    {
      "cell_type": "code",
      "metadata": {
        "colab": {
          "base_uri": "https://localhost:8080/",
          "height": 241
        },
        "id": "S1MuKuWBSaBi",
        "outputId": "2c914c0e-2871-49ed-f805-b2dbdd51cd4d"
      },
      "source": [
        "path = '/content/drive/MyDrive/datasets/creditcard_data.csv'\r\n",
        "df = pd.read_csv (path)\r\n",
        "df.head()"
      ],
      "execution_count": 146,
      "outputs": [
        {
          "output_type": "execute_result",
          "data": {
            "text/html": [
              "<div>\n",
              "<style scoped>\n",
              "    .dataframe tbody tr th:only-of-type {\n",
              "        vertical-align: middle;\n",
              "    }\n",
              "\n",
              "    .dataframe tbody tr th {\n",
              "        vertical-align: top;\n",
              "    }\n",
              "\n",
              "    .dataframe thead th {\n",
              "        text-align: right;\n",
              "    }\n",
              "</style>\n",
              "<table border=\"1\" class=\"dataframe\">\n",
              "  <thead>\n",
              "    <tr style=\"text-align: right;\">\n",
              "      <th></th>\n",
              "      <th>Unnamed: 0</th>\n",
              "      <th>Time</th>\n",
              "      <th>V1</th>\n",
              "      <th>V2</th>\n",
              "      <th>V3</th>\n",
              "      <th>V4</th>\n",
              "      <th>V5</th>\n",
              "      <th>V6</th>\n",
              "      <th>V7</th>\n",
              "      <th>V8</th>\n",
              "      <th>V9</th>\n",
              "      <th>V10</th>\n",
              "      <th>V11</th>\n",
              "      <th>V12</th>\n",
              "      <th>V13</th>\n",
              "      <th>V14</th>\n",
              "      <th>V15</th>\n",
              "      <th>V16</th>\n",
              "      <th>V17</th>\n",
              "      <th>V18</th>\n",
              "      <th>V19</th>\n",
              "      <th>V20</th>\n",
              "      <th>V21</th>\n",
              "      <th>V22</th>\n",
              "      <th>V23</th>\n",
              "      <th>V24</th>\n",
              "      <th>V25</th>\n",
              "      <th>V26</th>\n",
              "      <th>V27</th>\n",
              "      <th>V28</th>\n",
              "      <th>Amount</th>\n",
              "      <th>Class</th>\n",
              "    </tr>\n",
              "  </thead>\n",
              "  <tbody>\n",
              "    <tr>\n",
              "      <th>0</th>\n",
              "      <td>0</td>\n",
              "      <td>64</td>\n",
              "      <td>1.212511</td>\n",
              "      <td>-0.099054</td>\n",
              "      <td>-1.192094</td>\n",
              "      <td>0.286324</td>\n",
              "      <td>2.160516</td>\n",
              "      <td>3.616314</td>\n",
              "      <td>-0.404207</td>\n",
              "      <td>0.842331</td>\n",
              "      <td>0.169360</td>\n",
              "      <td>-0.030522</td>\n",
              "      <td>-0.541957</td>\n",
              "      <td>0.237212</td>\n",
              "      <td>-0.218130</td>\n",
              "      <td>0.197437</td>\n",
              "      <td>-0.147850</td>\n",
              "      <td>-0.097830</td>\n",
              "      <td>-0.510053</td>\n",
              "      <td>-0.070939</td>\n",
              "      <td>0.355171</td>\n",
              "      <td>0.014777</td>\n",
              "      <td>-0.167496</td>\n",
              "      <td>-0.494695</td>\n",
              "      <td>-0.149785</td>\n",
              "      <td>1.011227</td>\n",
              "      <td>0.883548</td>\n",
              "      <td>-0.329434</td>\n",
              "      <td>0.020370</td>\n",
              "      <td>0.017037</td>\n",
              "      <td>34.70</td>\n",
              "      <td>0</td>\n",
              "    </tr>\n",
              "    <tr>\n",
              "      <th>1</th>\n",
              "      <td>1</td>\n",
              "      <td>64</td>\n",
              "      <td>-0.658305</td>\n",
              "      <td>0.406791</td>\n",
              "      <td>2.037461</td>\n",
              "      <td>-0.291298</td>\n",
              "      <td>0.147910</td>\n",
              "      <td>-0.350857</td>\n",
              "      <td>0.945373</td>\n",
              "      <td>-0.172560</td>\n",
              "      <td>0.025133</td>\n",
              "      <td>-0.778135</td>\n",
              "      <td>-0.196290</td>\n",
              "      <td>0.632955</td>\n",
              "      <td>0.374025</td>\n",
              "      <td>-0.531597</td>\n",
              "      <td>-0.615063</td>\n",
              "      <td>-0.518078</td>\n",
              "      <td>0.003881</td>\n",
              "      <td>-1.288954</td>\n",
              "      <td>-0.797804</td>\n",
              "      <td>0.064133</td>\n",
              "      <td>-0.156096</td>\n",
              "      <td>-0.238805</td>\n",
              "      <td>0.089877</td>\n",
              "      <td>0.421195</td>\n",
              "      <td>-0.352487</td>\n",
              "      <td>0.074783</td>\n",
              "      <td>-0.094192</td>\n",
              "      <td>-0.092493</td>\n",
              "      <td>54.99</td>\n",
              "      <td>0</td>\n",
              "    </tr>\n",
              "    <tr>\n",
              "      <th>2</th>\n",
              "      <td>2</td>\n",
              "      <td>124</td>\n",
              "      <td>1.105253</td>\n",
              "      <td>0.541842</td>\n",
              "      <td>0.839421</td>\n",
              "      <td>2.570933</td>\n",
              "      <td>-0.279517</td>\n",
              "      <td>-0.423062</td>\n",
              "      <td>0.088019</td>\n",
              "      <td>0.011622</td>\n",
              "      <td>-0.715756</td>\n",
              "      <td>0.651379</td>\n",
              "      <td>0.073787</td>\n",
              "      <td>-0.142024</td>\n",
              "      <td>-0.739457</td>\n",
              "      <td>0.502639</td>\n",
              "      <td>0.736688</td>\n",
              "      <td>0.256745</td>\n",
              "      <td>-0.093732</td>\n",
              "      <td>-1.011416</td>\n",
              "      <td>-1.465500</td>\n",
              "      <td>-0.239883</td>\n",
              "      <td>-0.137434</td>\n",
              "      <td>-0.460991</td>\n",
              "      <td>0.189397</td>\n",
              "      <td>0.556329</td>\n",
              "      <td>0.185786</td>\n",
              "      <td>-0.189030</td>\n",
              "      <td>0.000208</td>\n",
              "      <td>0.026167</td>\n",
              "      <td>6.24</td>\n",
              "      <td>0</td>\n",
              "    </tr>\n",
              "    <tr>\n",
              "      <th>3</th>\n",
              "      <td>3</td>\n",
              "      <td>128</td>\n",
              "      <td>1.239495</td>\n",
              "      <td>-0.182609</td>\n",
              "      <td>0.155058</td>\n",
              "      <td>-0.928892</td>\n",
              "      <td>-0.746227</td>\n",
              "      <td>-1.235608</td>\n",
              "      <td>-0.061695</td>\n",
              "      <td>-0.125223</td>\n",
              "      <td>0.984938</td>\n",
              "      <td>-0.746625</td>\n",
              "      <td>1.563459</td>\n",
              "      <td>0.890132</td>\n",
              "      <td>-0.985159</td>\n",
              "      <td>0.778734</td>\n",
              "      <td>1.016974</td>\n",
              "      <td>-0.429490</td>\n",
              "      <td>-0.335787</td>\n",
              "      <td>0.614690</td>\n",
              "      <td>0.703133</td>\n",
              "      <td>-0.160406</td>\n",
              "      <td>0.146077</td>\n",
              "      <td>0.481119</td>\n",
              "      <td>-0.140019</td>\n",
              "      <td>0.538261</td>\n",
              "      <td>0.710720</td>\n",
              "      <td>-0.621382</td>\n",
              "      <td>0.036867</td>\n",
              "      <td>0.010963</td>\n",
              "      <td>8.80</td>\n",
              "      <td>0</td>\n",
              "    </tr>\n",
              "    <tr>\n",
              "      <th>4</th>\n",
              "      <td>4</td>\n",
              "      <td>132</td>\n",
              "      <td>-1.571359</td>\n",
              "      <td>1.687508</td>\n",
              "      <td>0.734670</td>\n",
              "      <td>1.293350</td>\n",
              "      <td>-0.217532</td>\n",
              "      <td>-0.002677</td>\n",
              "      <td>0.147364</td>\n",
              "      <td>0.515362</td>\n",
              "      <td>-0.372442</td>\n",
              "      <td>0.078021</td>\n",
              "      <td>-0.592495</td>\n",
              "      <td>0.997941</td>\n",
              "      <td>1.109328</td>\n",
              "      <td>0.060048</td>\n",
              "      <td>0.086141</td>\n",
              "      <td>-1.149893</td>\n",
              "      <td>0.765198</td>\n",
              "      <td>-0.810589</td>\n",
              "      <td>0.737550</td>\n",
              "      <td>-0.093614</td>\n",
              "      <td>0.048549</td>\n",
              "      <td>0.377256</td>\n",
              "      <td>-0.030436</td>\n",
              "      <td>0.117608</td>\n",
              "      <td>-0.060520</td>\n",
              "      <td>-0.296550</td>\n",
              "      <td>-0.481570</td>\n",
              "      <td>-0.167897</td>\n",
              "      <td>10.00</td>\n",
              "      <td>0</td>\n",
              "    </tr>\n",
              "  </tbody>\n",
              "</table>\n",
              "</div>"
            ],
            "text/plain": [
              "   Unnamed: 0  Time        V1        V2  ...       V27       V28  Amount  Class\n",
              "0           0    64  1.212511 -0.099054  ...  0.020370  0.017037   34.70      0\n",
              "1           1    64 -0.658305  0.406791  ... -0.094192 -0.092493   54.99      0\n",
              "2           2   124  1.105253  0.541842  ...  0.000208  0.026167    6.24      0\n",
              "3           3   128  1.239495 -0.182609  ...  0.036867  0.010963    8.80      0\n",
              "4           4   132 -1.571359  1.687508  ... -0.481570 -0.167897   10.00      0\n",
              "\n",
              "[5 rows x 32 columns]"
            ]
          },
          "metadata": {
            "tags": []
          },
          "execution_count": 146
        }
      ]
    },
    {
      "cell_type": "markdown",
      "metadata": {
        "id": "0scx7xBUjN8U"
      },
      "source": [
        "# Explore the features available in your dataframe"
      ]
    },
    {
      "cell_type": "code",
      "metadata": {
        "colab": {
          "base_uri": "https://localhost:8080/"
        },
        "id": "yxwwSBDsjQ9y",
        "outputId": "52e01e8e-91f1-4eb1-8a6b-4bb758d14e4e"
      },
      "source": [
        "print(df.info())"
      ],
      "execution_count": 147,
      "outputs": [
        {
          "output_type": "stream",
          "text": [
            "<class 'pandas.core.frame.DataFrame'>\n",
            "RangeIndex: 8000 entries, 0 to 7999\n",
            "Data columns (total 32 columns):\n",
            " #   Column      Non-Null Count  Dtype  \n",
            "---  ------      --------------  -----  \n",
            " 0   Unnamed: 0  8000 non-null   int64  \n",
            " 1   Time        8000 non-null   int64  \n",
            " 2   V1          8000 non-null   float64\n",
            " 3   V2          8000 non-null   float64\n",
            " 4   V3          8000 non-null   float64\n",
            " 5   V4          8000 non-null   float64\n",
            " 6   V5          8000 non-null   float64\n",
            " 7   V6          8000 non-null   float64\n",
            " 8   V7          8000 non-null   float64\n",
            " 9   V8          8000 non-null   float64\n",
            " 10  V9          8000 non-null   float64\n",
            " 11  V10         8000 non-null   float64\n",
            " 12  V11         8000 non-null   float64\n",
            " 13  V12         8000 non-null   float64\n",
            " 14  V13         8000 non-null   float64\n",
            " 15  V14         8000 non-null   float64\n",
            " 16  V15         8000 non-null   float64\n",
            " 17  V16         8000 non-null   float64\n",
            " 18  V17         8000 non-null   float64\n",
            " 19  V18         8000 non-null   float64\n",
            " 20  V19         8000 non-null   float64\n",
            " 21  V20         8000 non-null   float64\n",
            " 22  V21         8000 non-null   float64\n",
            " 23  V22         8000 non-null   float64\n",
            " 24  V23         8000 non-null   float64\n",
            " 25  V24         8000 non-null   float64\n",
            " 26  V25         8000 non-null   float64\n",
            " 27  V26         8000 non-null   float64\n",
            " 28  V27         8000 non-null   float64\n",
            " 29  V28         8000 non-null   float64\n",
            " 30  Amount      8000 non-null   float64\n",
            " 31  Class       8000 non-null   int64  \n",
            "dtypes: float64(29), int64(3)\n",
            "memory usage: 2.0 MB\n",
            "None\n"
          ],
          "name": "stdout"
        }
      ]
    },
    {
      "cell_type": "markdown",
      "metadata": {
        "id": "g0ULAeRijfBS"
      },
      "source": [
        "# Count the occurrences of fraud and no fraud and print them"
      ]
    },
    {
      "cell_type": "code",
      "metadata": {
        "colab": {
          "base_uri": "https://localhost:8080/"
        },
        "id": "vCec7DGjjhdp",
        "outputId": "b89d5bfd-42b0-41db-a2bd-ad23bec64fba"
      },
      "source": [
        "occ = df['Class'].value_counts()\r\n",
        "print(occ)"
      ],
      "execution_count": 148,
      "outputs": [
        {
          "output_type": "stream",
          "text": [
            "0    7983\n",
            "1      17\n",
            "Name: Class, dtype: int64\n"
          ],
          "name": "stdout"
        }
      ]
    },
    {
      "cell_type": "markdown",
      "metadata": {
        "id": "zdqAdpsVjvpB"
      },
      "source": [
        "# Print the ratio of fraud cases"
      ]
    },
    {
      "cell_type": "code",
      "metadata": {
        "colab": {
          "base_uri": "https://localhost:8080/"
        },
        "id": "-H3RarzujyB7",
        "outputId": "3089b223-cc6a-4658-e26c-0142c74d3a84"
      },
      "source": [
        "print(occ / len(df.index))"
      ],
      "execution_count": 149,
      "outputs": [
        {
          "output_type": "stream",
          "text": [
            "0    0.997875\n",
            "1    0.002125\n",
            "Name: Class, dtype: float64\n"
          ],
          "name": "stdout"
        }
      ]
    },
    {
      "cell_type": "markdown",
      "metadata": {
        "id": "LDuDQkBFuRCz"
      },
      "source": [
        "# Plotting your data"
      ]
    },
    {
      "cell_type": "code",
      "metadata": {
        "colab": {
          "base_uri": "https://localhost:8080/",
          "height": 312
        },
        "id": "--kIzDEMuSbh",
        "outputId": "2b88d4ec-9e9b-431f-f2d0-150b46e94fdf"
      },
      "source": [
        "plt.xlabel(\"Class\")\r\n",
        "plt.ylabel(\"Number of Observations\")\r\n",
        "occ.plot(kind = 'bar',title = 'Frequency by observation number',rot=0)"
      ],
      "execution_count": 150,
      "outputs": [
        {
          "output_type": "execute_result",
          "data": {
            "text/plain": [
              "<matplotlib.axes._subplots.AxesSubplot at 0x7fc0f7fe8f60>"
            ]
          },
          "metadata": {
            "tags": []
          },
          "execution_count": 150
        },
        {
          "output_type": "display_data",
          "data": {
            "image/png": "[encoded data removed]",
            "text/plain": [
              "<Figure size 432x288 with 1 Axes>"
            ]
          },
          "metadata": {
            "tags": [],
            "needs_background": "light"
          }
        }
      ]
    },
    {
      "cell_type": "code",
      "metadata": {
        "colab": {
          "base_uri": "https://localhost:8080/",
          "height": 265
        },
        "id": "NwcPG6bSwotB",
        "outputId": "4bb43f43-37c7-4a07-d45a-af534ff3cf40"
      },
      "source": [
        "# Plot how fraud and non-fraud cases are scattered \r\n",
        "plt.scatter(df.loc[df['Class'] == 0]['V1'], df.loc[df['Class'] == 0]['V2'], label=\"Class #0\", alpha=0.5, linewidth=0.15)\r\n",
        "plt.scatter(df.loc[df['Class'] == 1]['V1'], df.loc[df['Class'] == 1]['V2'], label=\"Class #1\", alpha=0.5, linewidth=0.15,c='r')\r\n",
        "plt.show()"
      ],
      "execution_count": 151,
      "outputs": [
        {
          "output_type": "display_data",
          "data": {
            "image/png": "[encoded data removed]",
            "text/plain": [
              "<Figure size 432x288 with 1 Axes>"
            ]
          },
          "metadata": {
            "tags": [],
            "needs_background": "light"
          }
        }
      ]
    },
    {
      "cell_type": "markdown",
      "metadata": {
        "id": "HkrOs55WGru8"
      },
      "source": [
        ""
      ]
    },
    {
      "cell_type": "code",
      "metadata": {
        "id": "s88YUIVGGtHq"
      },
      "source": [
        "# Define the prep_data function to extrac features \r\n",
        "def prep_data(df):\r\n",
        "    X = df.drop(['Class'],axis=1, inplace=False) #  \r\n",
        "    X = np.array(X).astype(np.float)\r\n",
        "    y = df[['Class']]  \r\n",
        "    y = np.array(y).astype(np.float)\r\n",
        "    return X,y\r\n",
        "\r\n",
        "# Create X and y from the prep_data function \r\n",
        "X, y = prep_data(df)"
      ],
      "execution_count": 152,
      "outputs": []
    },
    {
      "cell_type": "code",
      "metadata": {
        "id": "ols5tjL-IzOB"
      },
      "source": [
        "# Define a precision_recall_curve function\r\n",
        "def plot_pr_curve(recall, precision, average_precision):\r\n",
        "    plt.step(recall, precision, color='b', alpha=0.2, where='post')\r\n",
        "    plt.fill_between(recall, precision, step='post', alpha=0.2, color='b')\r\n",
        "    plt.xlabel('Recall')\r\n",
        "    plt.ylabel('Precision')\r\n",
        "    plt.ylim([0.0, 1.05])\r\n",
        "    plt.xlim([0.0, 1.0])\r\n",
        "    plt.title('2-class Precision-Recall curve: AP={0:0.2f}'.format(average_precision))\r\n",
        "    plt.show()"
      ],
      "execution_count": 153,
      "outputs": []
    },
    {
      "cell_type": "markdown",
      "metadata": {
        "id": "MyBVW_-PDTw5"
      },
      "source": [
        "# Decision Tree Classifier"
      ]
    },
    {
      "cell_type": "code",
      "metadata": {
        "colab": {
          "base_uri": "https://localhost:8080/",
          "height": 516
        },
        "id": "RmdujuzXDV3G",
        "outputId": "c235862f-d1ef-48ba-af0f-f22cdf8715bb"
      },
      "source": [
        "# Import the decision tree model from sklearn\r\n",
        "from sklearn.metrics import roc_curve,roc_auc_score, precision_recall_curve, average_precision_score\r\n",
        "from sklearn.model_selection import train_test_split\r\n",
        "from sklearn.tree import DecisionTreeClassifier\r\n",
        "from sklearn.metrics import classification_report\r\n",
        "from sklearn.metrics import confusion_matrix\r\n",
        "\r\n",
        "# Create the training and testing sets\r\n",
        "X_train, X_test, y_train, y_test = train_test_split(X, y, test_size=.3, random_state=0)\r\n",
        "\r\n",
        "# Fit a logistic regression model to our data\r\n",
        "model = DecisionTreeClassifier()\r\n",
        "model.fit(X_train, y_train)\r\n",
        "\r\n",
        "# Obtain model predictions\r\n",
        "y_predicted = model.predict(X_test)\r\n",
        "\r\n",
        "# Calculate average precision \r\n",
        "average_precision = average_precision_score(y_test, y_predicted)\r\n",
        "\r\n",
        "# Obtain precision and recall \r\n",
        "precision, recall, _ = precision_recall_curve(y_test, y_predicted)\r\n",
        "\r\n",
        "# Plot the recall precision tradeoff\r\n",
        "plot_pr_curve(recall, precision, average_precision)\r\n",
        "\r\n",
        "# Print the classifcation report and confusion matrix\r\n",
        "print('Classification report:\\n', classification_report(y_test, y_predicted))\r\n",
        "print('Confusion matrix:\\n',confusion_matrix(y_true = y_test, y_pred = y_predicted))"
      ],
      "execution_count": 154,
      "outputs": [
        {
          "output_type": "display_data",
          "data": {
            "image/png": "[encoded data removed]",
            "text/plain": [
              "<Figure size 432x288 with 1 Axes>"
            ]
          },
          "metadata": {
            "tags": [],
            "needs_background": "light"
          }
        },
        {
          "output_type": "stream",
          "text": [
            "Classification report:\n",
            "               precision    recall  f1-score   support\n",
            "\n",
            "         0.0       1.00      1.00      1.00      2390\n",
            "         1.0       0.75      0.30      0.43        10\n",
            "\n",
            "    accuracy                           1.00      2400\n",
            "   macro avg       0.87      0.65      0.71      2400\n",
            "weighted avg       1.00      1.00      1.00      2400\n",
            "\n",
            "Confusion matrix:\n",
            " [[2389    1]\n",
            " [   7    3]]\n"
          ],
          "name": "stdout"
        }
      ]
    }
  ]
}